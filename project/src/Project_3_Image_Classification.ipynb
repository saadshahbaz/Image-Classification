{
  "nbformat": 4,
  "nbformat_minor": 0,
  "metadata": {
    "colab": {
      "name": "Project 3 - Image Classification.ipynb",
      "provenance": [],
      "collapsed_sections": [
        "n9uLnSXfmGg8",
        "gB4iUpGUmOcg",
        "GX9rLIuFmrTn",
        "sWMb-yoNuRja",
        "ZwYYXtBEsLfx",
        "XPe8tzE1vKi4",
        "sZblArECvpdt"
      ]
    },
    "kernelspec": {
      "name": "python3",
      "display_name": "Python 3"
    },
    "language_info": {
      "name": "python"
    },
    "accelerator": "GPU"
  },
  "cells": [
    {
      "cell_type": "markdown",
      "metadata": {
        "id": "weSSQqZnhxyv"
      },
      "source": [
        "\n",
        "\n",
        "# <center><b> Image Classification - Project 3 </b></center>\n",
        "### <center><i> Group 63: Saad Shahbaz, Ria Stevens and Navneet Kaur </i></center>\n",
        "\n",
        "\n",
        "\n"
      ]
    },
    {
      "cell_type": "markdown",
      "metadata": {
        "id": "Gdg1boVUiHEq"
      },
      "source": [
        "## Imports"
      ]
    },
    {
      "cell_type": "code",
      "metadata": {
        "id": "BzkXrhTzhwWs"
      },
      "source": [
        "import pickle\n",
        "import numpy as np\n",
        "import numpy.random as npr\n",
        "import matplotlib.pyplot as plt\n",
        "import tensorflow as tf\n",
        "import os    \n",
        "os.environ['KMP_DUPLICATE_LIB_OK']='True'\n",
        "import keras\n",
        "from tensorflow.keras.optimizers import Adam\n",
        "from tensorflow.keras.preprocessing.image import random_rotation, random_zoom, random_shift, random_shear\n",
        "from keras.callbacks import ModelCheckpoint, EarlyStopping\n",
        "from tensorflow.keras.layers import Conv2D, BatchNormalization, MaxPooling2D, Dropout, Dense\n",
        "\n",
        "from sklearn.model_selection import train_test_split"
      ],
      "execution_count": 1,
      "outputs": []
    },
    {
      "cell_type": "code",
      "metadata": {
        "colab": {
          "base_uri": "https://localhost:8080/"
        },
        "id": "dlF479vqjZst",
        "outputId": "5934dbf4-18c9-46b7-9961-fb07ae0824b9"
      },
      "source": [
        "from google.colab import drive\n",
        "drive.mount('/content/drive')"
      ],
      "execution_count": 2,
      "outputs": [
        {
          "output_type": "stream",
          "name": "stdout",
          "text": [
            "Mounted at /content/drive\n"
          ]
        }
      ]
    },
    {
      "cell_type": "markdown",
      "metadata": {
        "id": "on77hOJ3jxgq"
      },
      "source": [
        "### Prepare data"
      ]
    },
    {
      "cell_type": "code",
      "metadata": {
        "id": "MMyANR2Njy9K"
      },
      "source": [
        "TRAIN_IMAGE_PATH = \"/content/drive/My Drive/Project 3 Folder/images_l.pkl\"\n",
        "UL_TRAIN_IMAGE_PATH = \"/content/drive/My Drive/Project 3 Folder/images_ul.pkl\"\n",
        "TRAIN_LABEL_PATH = \"/content/drive/My Drive/Project 3 Folder/labels_l.pkl\"\n",
        "TEST_IMAGE_PATH = \"/content/drive/My Drive/Project 3 Folder/images_test.pkl\"\n",
        "\n",
        "with open(TRAIN_IMAGE_PATH, 'rb') as f: \n",
        "    training_images = pickle.load(f)\n",
        "\n",
        "with open(TRAIN_LABEL_PATH, 'rb') as f: \n",
        "    training_labels = pickle.load(f)\n",
        "\n",
        "with open(TEST_IMAGE_PATH, 'rb') as f: \n",
        "    test_images = pickle.load(f)\n",
        "\n",
        "with open(UL_TRAIN_IMAGE_PATH, 'rb') as f: \n",
        "    unlabelled_training_images = pickle.load(f)"
      ],
      "execution_count": 3,
      "outputs": []
    },
    {
      "cell_type": "code",
      "metadata": {
        "id": "orODwE-jmDYW"
      },
      "source": [
        "from sklearn.model_selection import train_test_split\n",
        "train_images, val_images, train_labels, val_labels = train_test_split(training_images, training_labels, test_size=0.05, random_state=42)"
      ],
      "execution_count": 4,
      "outputs": []
    },
    {
      "cell_type": "markdown",
      "metadata": {
        "id": "n9uLnSXfmGg8"
      },
      "source": [
        "## Visualising Data"
      ]
    },
    {
      "cell_type": "code",
      "metadata": {
        "colab": {
          "base_uri": "https://localhost:8080/",
          "height": 319
        },
        "id": "KQBmZzZHmFbb",
        "outputId": "eeed094b-76cd-4f75-d367-3a7dd9a3cbb1"
      },
      "source": [
        "print(training_labels[128])\n",
        "plt.imshow(training_images[128], cmap=plt.get_cmap('gray'))"
      ],
      "execution_count": 5,
      "outputs": [
        {
          "output_type": "stream",
          "name": "stdout",
          "text": [
            "[0. 0. 0. 0. 0. 1. 0. 0. 0. 0. 0. 0. 0. 0. 1. 0. 0. 0. 0. 0. 0. 0. 0. 0.\n",
            " 0. 0. 0. 0. 0. 0. 0. 0. 0. 0. 0. 0.]\n"
          ]
        },
        {
          "output_type": "execute_result",
          "data": {
            "text/plain": [
              "<matplotlib.image.AxesImage at 0x7f878e090410>"
            ]
          },
          "metadata": {},
          "execution_count": 5
        },
        {
          "output_type": "display_data",
          "data": {
            "image/png": "[encoded data removed]",
            "text/plain": [
              "<Figure size 432x288 with 1 Axes>"
            ]
          },
          "metadata": {
            "needs_background": "light"
          }
        }
      ]
    },
    {
      "cell_type": "markdown",
      "metadata": {
        "id": "gB4iUpGUmOcg"
      },
      "source": [
        "## Data Augmentation"
      ]
    },
    {
      "cell_type": "code",
      "metadata": {
        "id": "gXnQ_IhtmQb-"
      },
      "source": [
        "def labels_to_260_classes(labels):\n",
        "  class_labels = np.zeros((len(labels), 260))\n",
        "  _, indices = np.where(labels == 1)\n",
        "  for i in range(len(labels)):\n",
        "    num = indices[2 * i]\n",
        "    letter = indices[2 * i + 1]\n",
        "    class_labels[i][num * 10 + letter - 10] = 1\n",
        "  return class_labels"
      ],
      "execution_count": null,
      "outputs": []
    },
    {
      "cell_type": "code",
      "metadata": {
        "id": "Y0s6EslumoPI"
      },
      "source": [
        "def augment(images):\n",
        "  def augment_one(image):\n",
        "    p_rot, p_shift, p_shear, p_zoom = npr.randint(low=0, high=5, size=4)\n",
        "    if p_rot == 1:\n",
        "      image = random_rotation(\n",
        "          image, 15, row_axis=0, col_axis=1, \n",
        "          channel_axis=2, fill_mode='constant', cval=0.0\n",
        "          )\n",
        "    if p_shift == 1:\n",
        "      image = random_shift(\n",
        "          image, wrg=0.2, hrg=0.2, row_axis=0, col_axis=1, \n",
        "          channel_axis=2, fill_mode='constant', cval=0.0\n",
        "          )\n",
        "    if p_shear == 1:\n",
        "      image = random_shear(\n",
        "          image, intensity=30, row_axis=0, col_axis=1, \n",
        "          channel_axis=2, fill_mode='constant', cval=0.0\n",
        "          )\n",
        "    if p_zoom == 1:\n",
        "      image = random_zoom(\n",
        "          image, zoom_range=(0.5, 0.5), row_axis=0, col_axis=1, \n",
        "          channel_axis=2, fill_mode='constant', cval=0.0\n",
        "          )\n",
        "    return image\n",
        "  augment_one(images[0])\n",
        "  augmented_images = np.array([augment_one(image) for image in images])\n",
        "  augmented_images2 = np.array([augment_one(image) for image in images])\n",
        "  augmented_images3 = np.array([augment_one(image) for image in images])\n",
        "  return np.concatenate([images, augmented_images, augmented_images2, augmented_images3], 0)"
      ],
      "execution_count": 7,
      "outputs": []
    },
    {
      "cell_type": "code",
      "metadata": {
        "id": "nvbEPu1nmpN8"
      },
      "source": [
        "def labels_to_36_classes(labels):\n",
        "  class_labels = np.zeros((len(labels), 36))\n",
        "  for i in range(len(labels)):\n",
        "    max_value = np.argmax(labels[i])\n",
        "    class_labels[i][max_value//26] = 1\n",
        "    class_labels[i][(max_value%26)+10]=1\n",
        "  return class_labels"
      ],
      "execution_count": 8,
      "outputs": []
    },
    {
      "cell_type": "markdown",
      "metadata": {
        "id": "GX9rLIuFmrTn"
      },
      "source": [
        "## Further Processing"
      ]
    },
    {
      "cell_type": "code",
      "metadata": {
        "id": "VEag0ox2mq1W"
      },
      "source": [
        "training_labels_260 = labels_to_260_classes(train_labels)\n",
        "validation_labels_260 = labels_to_260_classes(val_labels)"
      ],
      "execution_count": 9,
      "outputs": []
    },
    {
      "cell_type": "code",
      "metadata": {
        "id": "7yhPopmxnBrk"
      },
      "source": [
        "def removing_dots(input_images):\n",
        "\n",
        "  binary_images = np.zeros(np.shape(input_images))\n",
        "  for i in range(input_images.shape[0]):\n",
        "    binary_images[i] = input_images[i][:, :] > 125 \n",
        "\n",
        "  return binary_images"
      ],
      "execution_count": 10,
      "outputs": []
    },
    {
      "cell_type": "markdown",
      "metadata": {
        "id": "sWMb-yoNuRja"
      },
      "source": [
        "## Semi-Supervised Learning"
      ]
    },
    {
      "cell_type": "code",
      "metadata": {
        "id": "Z3qddjUJuiB4"
      },
      "source": [
        "def base_autoencoder(unlabelledX, trainX, testX):\n",
        "  #define model\n",
        "  model = Sequential()\n",
        "  model.add(Conv2D(filters=32, kernel_size=3, activation='relu', use_bias=True, kernel_initializer='he_uniform', input_shape=(56, 56, 1), padding='same'))\n",
        "  model.add(Conv2D(filters=1, kernel_size=3, activation='relu', use_bias=True, kernel_initializer='he_uniform', input_shape=(56, 56, 32), padding='same'))\n",
        "  # compile model\n",
        "  model.compile(loss='mse', optimizer=SGD(learning_rate=0.01, momentum=0.9))\n",
        "  # fit model\n",
        "  model.fit(unlabelledX, unlabelledX, epochs=NUM_EPOCHS, verbose=2)\n",
        "  unlabelled_mse = model.evaluate(unlabelledX, unlabelledX, verbose=0)\n",
        "  train_mse = model.evaluate(trainX, trainX, verbose=0)\n",
        "  test_mse = model.evaluate(testX, testX, verbose=0)\n",
        "  print('> reconstruction error unlabelled=%.3f, train=%.3f, test=%.3f' % (unlabelled_mse, train_mse, test_mse))\n",
        "  return model"
      ],
      "execution_count": 15,
      "outputs": []
    },
    {
      "cell_type": "code",
      "metadata": {
        "id": "TJk53SYiuUwq"
      },
      "source": [
        "def evaluate_autoencoder_as_classifier(model, trainX, trainy, testX, testy):\n",
        "  output_layer = model.layers[-1]\n",
        "  model.pop()\n",
        "  for layer in model.layers:\n",
        "    layer.trainable = False\n",
        "\n",
        "  model.add(Flatten())\n",
        "  model.add(Dense(36, activation='linear'))\n",
        "\n",
        "  model.compile(loss=tf.keras.losses.CategoricalCrossentropy(), optimizer=SGD(learning_rate=0.01, momentum=0.9))\n",
        "  model.fit(trainX, trainy, epochs=NUM_EPOCHS, verbose=0)\n",
        "\n",
        "  train_acc = model.evaluate(trainX, trainy, verbose=0)\n",
        "  test_acc = model.evaluate(testX, testy, verbose=0)\n",
        "\n",
        "  model.pop()\n",
        "  model.pop()\n",
        "  model.add(output_layer)\n",
        "  model.compile(loss='mse', optimizer=SGD(learning_rate=0.01, momentum=0.9))\n",
        "  return train_acc, test_acc"
      ],
      "execution_count": 14,
      "outputs": []
    },
    {
      "cell_type": "code",
      "metadata": {
        "id": "dtv1xV5uudea"
      },
      "source": [
        "def add_layer_to_autoencoder(model, unlabelledX, trainX, testX):\n",
        "  # remember the current output layer\n",
        "  output_layer = model.layers[-1]\n",
        "  # remove the output layer\n",
        "  model.pop()\n",
        "  # mark all remaining layers as non-trainable\n",
        "  for layer in model.layers:\n",
        "    layer.trainable = False\n",
        "  # add a new hidden layer\n",
        "  model.add(Conv2D(32, 3, activation='relu', use_bias=True, kernel_initializer='he_uniform', padding='same'))\n",
        "  # re-add the output layer\n",
        "  model.add(output_layer)\n",
        "  model.fit(unlabelledX, unlabelledX, epochs=NUM_EPOCHS, verbose=0)\n",
        "  unlabelled_mse = model.evaluate(unlabelledX, unlabelledX, verbose=0)\n",
        "  train_mse = model.evaluate(trainX, trainX, verbose=0)\n",
        "  test_mse = model.evaluate(testX, testX, verbose=0)\n",
        "  print('> reconstruction error unlabelled=%.3f, train=%.3f, test=%.3f' % (unlabelled_mse, train_mse, test_mse))"
      ],
      "execution_count": 13,
      "outputs": []
    },
    {
      "cell_type": "code",
      "metadata": {
        "id": "65em85YEuoAu"
      },
      "source": [
        "def combined_accuracy(y, y_hat, verbose=False, datalabel='training'):\n",
        "  correct = 0\n",
        "  correctNums = 0\n",
        "  correctLetters = 0\n",
        "  total = 0\n",
        "   \n",
        "  # calculate outputs by running images through the network\n",
        "  numbers = y_hat[:, :10]\n",
        "  predictedNums = tf.argmax(numbers, 1)\n",
        "  actualNums = tf.argmax(y[:, :10], 1)\n",
        "          \n",
        "  letters = y_hat[:, 10:]\n",
        "  predictedLetters = tf.argmax(letters, 1)\n",
        "  actualLetters = tf.argmax(y[:, 10:], 1)\n",
        "\n",
        "  boolNums = tf.equal(predictedNums, actualNums)\n",
        "  intNums = tf.cast(boolNums, tf.float64)\n",
        "  correctNums += tf.reduce_sum(intNums)\n",
        "\n",
        "  boolLetters = tf.equal(predictedLetters, actualLetters)\n",
        "  intLetters = tf.cast(boolLetters, tf.float64)\n",
        "  correctLetters += tf.reduce_sum(intLetters)\n",
        "    \n",
        "  total += predictedNums.shape[0]\n",
        "  correct = tf.add(tf.add(tf.multiply(intNums, intLetters), tf.scalar_mul(0.25, intNums)), tf.scalar_mul(0.25, intLetters))\n",
        "\n",
        "  ovr_score = tf.reduce_sum(correct) / total\n",
        "  ovr_acc = tf.reduce_sum(tf.multiply(intNums, intLetters)) / total\n",
        "  num_acc = correctNums / total\n",
        "  let_acc = correctLetters / total\n",
        "\n",
        "  print(f'Score of the network on {datalabel} data: {ovr_score}')\n",
        "  print(f'Accuracy of the network on numbers in {datalabel} data: {num_acc}')\n",
        "  print(f'Accuracy of the network on letters in {datalabel} data: {let_acc}')\n",
        "  print(f'Accuracy of the network on both in {datalabel} data: {ovr_acc}')\n",
        "\n",
        "  return tf.scalar_mul(-1.0, correct)"
      ],
      "execution_count": 16,
      "outputs": []
    },
    {
      "cell_type": "markdown",
      "metadata": {
        "id": "qKOsSjOunKlN"
      },
      "source": [
        "## CNN"
      ]
    },
    {
      "cell_type": "code",
      "metadata": {
        "id": "M191JHwCnJ9l"
      },
      "source": [
        "import tensorflow as tf\n",
        "from tensorflow import keras\n",
        "from tensorflow.keras.models import Sequential\n",
        "from tensorflow.keras import layers\n",
        "from keras.layers import Conv2D, BatchNormalization, MaxPooling2D, Flatten, Dense, Dropout\n",
        "from keras.regularizers import l2\n",
        "\n",
        "model = Sequential()\n",
        "model.add(Conv2D(filters=16,activation='relu', kernel_size=(3,3),input_shape=(56,56,1)))\n",
        "model.add(BatchNormalization())\n",
        "model.add(Conv2D(filters=32, kernel_size=(3,3),activation='relu', padding='same'))\n",
        "model.add(BatchNormalization())\n",
        "model.add(MaxPooling2D(pool_size=(2,2)))\n",
        "model.add(BatchNormalization())\n",
        "model.add(Conv2D(filters=32,kernel_size=(3,3),activation='relu', padding='same'))\n",
        "model.add(BatchNormalization())\n",
        "model.add(Dropout(0.3))\n",
        "model.add(Conv2D(filters=64,kernel_size=(3,3),activation='relu', padding='same'))\n",
        "model.add(BatchNormalization())\n",
        "model.add(MaxPooling2D(pool_size=(2,2)))\n",
        "model.add(Dropout(0.3))\n",
        "model.add(Conv2D(filters=64,kernel_size=(3,3),activation='relu', padding='same'))\n",
        "model.add(BatchNormalization())\n",
        "model.add(Conv2D(filters=128,kernel_size=(3,3),activation='relu', padding='same'))\n",
        "model.add(BatchNormalization())\n",
        "model.add(MaxPooling2D(pool_size=(2,2)))\n",
        "model.add(Conv2D(filters=128,kernel_size=(3,3),activation='relu', padding='same'))\n",
        "model.add(MaxPooling2D(pool_size=(2,2)))\n",
        "model.add(BatchNormalization())\n",
        "model.add(Conv2D(filters=128,kernel_size=(3,3),activation='relu', padding='same'))\n",
        "model.add(MaxPooling2D(pool_size=(2,2)))\n",
        "model.add(BatchNormalization())\n",
        "model.add(Dropout(0.3))\n",
        "model.add(Conv2D(filters=256,kernel_size=(3,3),activation='relu', padding='same'))\n",
        "model.add(BatchNormalization())\n",
        "model.add(layers.Flatten())\n",
        "model.add(layers.Dense(units=256*3*3, activation='relu'))\n",
        "model.add(Dropout(0.3))\n",
        "model.add(layers.Dense(units=650, activation='relu'))\n",
        "model.add(layers.Dense(units=260, activation='softmax'))"
      ],
      "execution_count": 11,
      "outputs": []
    },
    {
      "cell_type": "code",
      "metadata": {
        "colab": {
          "base_uri": "https://localhost:8080/"
        },
        "id": "l7otXbR6nOQc",
        "outputId": "753b80aa-031d-4145-c0fb-cf6287e8e486"
      },
      "source": [
        "model.compile(loss='categorical_crossentropy',optimizer='adam',metrics=['accuracy'])\n",
        "history = model.fit(x=train_images, y=training_labels_260, batch_size=15, epochs=36, verbose=1, validation_data=(val_images, validation_labels_260))"
      ],
      "execution_count": 12,
      "outputs": [
        {
          "output_type": "stream",
          "name": "stdout",
          "text": [
            "Epoch 1/36\n",
            "1900/1900 [==============================] - 56s 23ms/step - loss: 4.1014 - accuracy: 0.0258 - val_loss: 4.8419 - val_accuracy: 0.0180\n",
            "Epoch 2/36\n",
            "1900/1900 [==============================] - 42s 22ms/step - loss: 3.7005 - accuracy: 0.0309 - val_loss: 3.7711 - val_accuracy: 0.0313\n",
            "Epoch 3/36\n",
            "1900/1900 [==============================] - 43s 22ms/step - loss: 3.6311 - accuracy: 0.0322 - val_loss: 3.6501 - val_accuracy: 0.0353\n",
            "Epoch 4/36\n",
            "1900/1900 [==============================] - 43s 23ms/step - loss: 3.5639 - accuracy: 0.0411 - val_loss: 3.4913 - val_accuracy: 0.0553\n",
            "Epoch 5/36\n",
            "1900/1900 [==============================] - 43s 22ms/step - loss: 3.4372 - accuracy: 0.0575 - val_loss: 3.2744 - val_accuracy: 0.0773\n",
            "Epoch 6/36\n",
            "1900/1900 [==============================] - 43s 22ms/step - loss: 3.2902 - accuracy: 0.0685 - val_loss: 3.3860 - val_accuracy: 0.0607\n",
            "Epoch 7/36\n",
            "1900/1900 [==============================] - 43s 22ms/step - loss: 3.1189 - accuracy: 0.0912 - val_loss: 2.9463 - val_accuracy: 0.1093\n",
            "Epoch 8/36\n",
            "1900/1900 [==============================] - 43s 22ms/step - loss: 2.9694 - accuracy: 0.1168 - val_loss: 2.7600 - val_accuracy: 0.1420\n",
            "Epoch 9/36\n",
            "1900/1900 [==============================] - 43s 22ms/step - loss: 2.7756 - accuracy: 0.1525 - val_loss: 2.4611 - val_accuracy: 0.2347\n",
            "Epoch 10/36\n",
            "1900/1900 [==============================] - 42s 22ms/step - loss: 2.5782 - accuracy: 0.1915 - val_loss: 2.2217 - val_accuracy: 0.2647\n",
            "Epoch 11/36\n",
            "1900/1900 [==============================] - 42s 22ms/step - loss: 2.4159 - accuracy: 0.2295 - val_loss: 2.1603 - val_accuracy: 0.2847\n",
            "Epoch 12/36\n",
            "1900/1900 [==============================] - 43s 22ms/step - loss: 2.2341 - accuracy: 0.2825 - val_loss: 2.1064 - val_accuracy: 0.3133\n",
            "Epoch 13/36\n",
            "1900/1900 [==============================] - 43s 22ms/step - loss: 1.9959 - accuracy: 0.3449 - val_loss: 1.5614 - val_accuracy: 0.4787\n",
            "Epoch 14/36\n",
            "1900/1900 [==============================] - 43s 22ms/step - loss: 1.7732 - accuracy: 0.4061 - val_loss: 1.3552 - val_accuracy: 0.5527\n",
            "Epoch 15/36\n",
            "1900/1900 [==============================] - 43s 22ms/step - loss: 1.6043 - accuracy: 0.4647 - val_loss: 1.2189 - val_accuracy: 0.5653\n",
            "Epoch 16/36\n",
            "1900/1900 [==============================] - 43s 23ms/step - loss: 1.4395 - accuracy: 0.5231 - val_loss: 1.0011 - val_accuracy: 0.6487\n",
            "Epoch 17/36\n",
            "1900/1900 [==============================] - 42s 22ms/step - loss: 1.2690 - accuracy: 0.5835 - val_loss: 0.8809 - val_accuracy: 0.7067\n",
            "Epoch 18/36\n",
            "1900/1900 [==============================] - 42s 22ms/step - loss: 1.1448 - accuracy: 0.6283 - val_loss: 0.7031 - val_accuracy: 0.7607\n",
            "Epoch 19/36\n",
            "1900/1900 [==============================] - 43s 22ms/step - loss: 1.0521 - accuracy: 0.6587 - val_loss: 0.6794 - val_accuracy: 0.7887\n",
            "Epoch 20/36\n",
            "1900/1900 [==============================] - 42s 22ms/step - loss: 0.9287 - accuracy: 0.7054 - val_loss: 0.6083 - val_accuracy: 0.8067\n",
            "Epoch 21/36\n",
            "1900/1900 [==============================] - 42s 22ms/step - loss: 0.8481 - accuracy: 0.7274 - val_loss: 0.5929 - val_accuracy: 0.8120\n",
            "Epoch 22/36\n",
            "1900/1900 [==============================] - 42s 22ms/step - loss: 0.7876 - accuracy: 0.7505 - val_loss: 0.4507 - val_accuracy: 0.8520\n",
            "Epoch 23/36\n",
            "1900/1900 [==============================] - 43s 23ms/step - loss: 0.7349 - accuracy: 0.7668 - val_loss: 0.4692 - val_accuracy: 0.8553\n",
            "Epoch 24/36\n",
            "1900/1900 [==============================] - 43s 22ms/step - loss: 0.6700 - accuracy: 0.7848 - val_loss: 0.4353 - val_accuracy: 0.8587\n",
            "Epoch 25/36\n",
            "1900/1900 [==============================] - 43s 22ms/step - loss: 0.6335 - accuracy: 0.7992 - val_loss: 0.4127 - val_accuracy: 0.8733\n",
            "Epoch 26/36\n",
            "1900/1900 [==============================] - 42s 22ms/step - loss: 0.5949 - accuracy: 0.8133 - val_loss: 0.5061 - val_accuracy: 0.8507\n",
            "Epoch 27/36\n",
            "1900/1900 [==============================] - 43s 22ms/step - loss: 0.5629 - accuracy: 0.8259 - val_loss: 0.4251 - val_accuracy: 0.8720\n",
            "Epoch 28/36\n",
            "1900/1900 [==============================] - 43s 22ms/step - loss: 0.5317 - accuracy: 0.8351 - val_loss: 0.3749 - val_accuracy: 0.8947\n",
            "Epoch 29/36\n",
            "1900/1900 [==============================] - 43s 22ms/step - loss: 0.5185 - accuracy: 0.8363 - val_loss: 0.3698 - val_accuracy: 0.8907\n",
            "Epoch 30/36\n",
            "1900/1900 [==============================] - 43s 23ms/step - loss: 0.4858 - accuracy: 0.8479 - val_loss: 0.3752 - val_accuracy: 0.8813\n",
            "Epoch 31/36\n",
            "1900/1900 [==============================] - 43s 22ms/step - loss: 0.4540 - accuracy: 0.8568 - val_loss: 0.3128 - val_accuracy: 0.9140\n",
            "Epoch 32/36\n",
            "1900/1900 [==============================] - 43s 23ms/step - loss: 0.4437 - accuracy: 0.8586 - val_loss: 0.3691 - val_accuracy: 0.8927\n",
            "Epoch 33/36\n",
            "1900/1900 [==============================] - 43s 22ms/step - loss: 0.4280 - accuracy: 0.8655 - val_loss: 0.2894 - val_accuracy: 0.9193\n",
            "Epoch 34/36\n",
            "1900/1900 [==============================] - 43s 22ms/step - loss: 0.4168 - accuracy: 0.8687 - val_loss: 0.3180 - val_accuracy: 0.9120\n",
            "Epoch 35/36\n",
            "1900/1900 [==============================] - 43s 22ms/step - loss: 0.3975 - accuracy: 0.8747 - val_loss: 0.3055 - val_accuracy: 0.9107\n",
            "Epoch 36/36\n",
            "1900/1900 [==============================] - 43s 22ms/step - loss: 0.3781 - accuracy: 0.8808 - val_loss: 0.2927 - val_accuracy: 0.9107\n"
          ]
        }
      ]
    },
    {
      "cell_type": "markdown",
      "metadata": {
        "id": "ZwYYXtBEsLfx"
      },
      "source": [
        "## Visualising the output"
      ]
    },
    {
      "cell_type": "code",
      "metadata": {
        "colab": {
          "base_uri": "https://localhost:8080/",
          "height": 573
        },
        "id": "w1QDHNwRsKrG",
        "outputId": "e1cb0267-fe5c-4a2f-8427-314b5cc45093"
      },
      "source": [
        "model_accuracy_training = history.history['accuracy']\n",
        "model_loss_training = history.history['loss']\n",
        "model_accuracy_validation = history.history['val_accuracy']\n",
        "model_loss_validation = history.history['val_loss']\n",
        "plt.plot(model_accuracy_training, color='Red')\n",
        "plt.plot(model_accuracy_validation, color = 'Blue')\n",
        "plt.title('Accuracy of the model')\n",
        "plt.ylabel('Accuracy')\n",
        "plt.xlabel('Epoch')\n",
        "plt.legend(['Training Set', 'Validation Set'], loc='upper left')\n",
        "plt.show()\n",
        "# summarize history for loss\n",
        "plt.plot(model_loss_training,color='Red')\n",
        "plt.plot(model_loss_validation, color = 'Blue')\n",
        "plt.title('Loss of the model')\n",
        "plt.ylabel('Categorical Crossentropy Loss')\n",
        "plt.xlabel('Epoch')\n",
        "plt.legend(['Training Set', 'Validation Set'], loc='upper left')\n",
        "plt.show()"
      ],
      "execution_count": 22,
      "outputs": [
        {
          "output_type": "display_data",
          "data": {
            "image/png": "[encoded data removed]",
            "text/plain": [
              "<Figure size 432x288 with 1 Axes>"
            ]
          },
          "metadata": {
            "needs_background": "light"
          }
        },
        {
          "output_type": "display_data",
          "data": {
            "image/png": "[encoded data removed]",
            "text/plain": [
              "<Figure size 432x288 with 1 Axes>"
            ]
          },
          "metadata": {
            "needs_background": "light"
          }
        }
      ]
    },
    {
      "cell_type": "markdown",
      "metadata": {
        "id": "XPe8tzE1vKi4"
      },
      "source": [
        "## Running on Test Data"
      ]
    },
    {
      "cell_type": "code",
      "metadata": {
        "id": "rStRLlSBvOQ_"
      },
      "source": [
        "test_predictions = np.array(model.predict(test_images))"
      ],
      "execution_count": 17,
      "outputs": []
    },
    {
      "cell_type": "code",
      "metadata": {
        "id": "tFnE3XimvdUa"
      },
      "source": [
        "testing_labels = labels_to_36_classes(test_predictions)"
      ],
      "execution_count": 19,
      "outputs": []
    },
    {
      "cell_type": "code",
      "metadata": {
        "colab": {
          "base_uri": "https://localhost:8080/"
        },
        "id": "vgG8iqxqvl6m",
        "outputId": "520e80fe-9e41-4506-a531-85837d50bfa7"
      },
      "source": [
        "print(testing_labels[0])"
      ],
      "execution_count": 20,
      "outputs": [
        {
          "output_type": "stream",
          "name": "stdout",
          "text": [
            "[1. 0. 0. 0. 0. 0. 0. 0. 0. 0. 0. 0. 0. 0. 0. 0. 0. 0. 0. 0. 0. 0. 0. 0.\n",
            " 0. 0. 0. 0. 0. 1. 0. 0. 0. 0. 0. 0.]\n"
          ]
        }
      ]
    },
    {
      "cell_type": "markdown",
      "metadata": {
        "id": "sZblArECvpdt"
      },
      "source": [
        "## Dictionary For Labels"
      ]
    },
    {
      "cell_type": "code",
      "metadata": {
        "id": "Cz6QJMW6vpP0"
      },
      "source": [
        "values = {\n",
        "    0:'0', \n",
        "    1:'1',\n",
        "    2:'2', \n",
        "    3:'3', \n",
        "    4:'4',\n",
        "    5:'5', \n",
        "    6:'6', \n",
        "    7:'7', \n",
        "    8:'8', \n",
        "    9:'9', \n",
        "    10:'A', \n",
        "    11:'B', \n",
        "    12:'C', \n",
        "    13:'D', \n",
        "    14:'E',\n",
        "    15:'F',\n",
        "    16:'G',\n",
        "    17:'H',\n",
        "    18:'I',\n",
        "    19:'J',\n",
        "    20:'K',\n",
        "    21:'L',\n",
        "    22:'M',\n",
        "    23:'N',\n",
        "    24:'O',\n",
        "    25:'P',\n",
        "    26:'Q',\n",
        "    27:'R',\n",
        "    28:'S',\n",
        "    29:'T',\n",
        "    30:'U',\n",
        "    31:'V',\n",
        "    32:'W',\n",
        "    33:'X',\n",
        "    34:'Y',\n",
        "    35:'Z'\n",
        "}\n",
        "  \n"
      ],
      "execution_count": 18,
      "outputs": []
    },
    {
      "cell_type": "markdown",
      "metadata": {
        "id": "9XUDYhWnvx8F"
      },
      "source": [
        "## Visualising Some Outputs"
      ]
    },
    {
      "cell_type": "code",
      "metadata": {
        "id": "93nOHDqLvn73"
      },
      "source": [
        "pred_strings = []\n",
        "for pred in testing_labels:\n",
        "    st = \"\".join([str(int(x)) for x in pred])\n",
        "    pred_strings.append(st)"
      ],
      "execution_count": 21,
      "outputs": []
    },
    {
      "cell_type": "code",
      "metadata": {
        "colab": {
          "base_uri": "https://localhost:8080/"
        },
        "id": "Ipj4l-M8wAX5",
        "outputId": "f4e2c46f-ef4b-40a6-da96-e8be5d071bc8"
      },
      "source": [
        "import random\n",
        "#Generate 5 random numbers between 10 and 30\n",
        "randomlist = random.sample(range(0, len(pred_strings)-1), 10)\n",
        "print(randomlist)"
      ],
      "execution_count": 31,
      "outputs": [
        {
          "output_type": "stream",
          "name": "stdout",
          "text": [
            "[3526, 13052, 9845, 10785, 6497, 13335, 2400, 11713, 14228, 14857]\n"
          ]
        }
      ]
    },
    {
      "cell_type": "code",
      "metadata": {
        "colab": {
          "base_uri": "https://localhost:8080/",
          "height": 1000
        },
        "id": "Df2pvooqwQeA",
        "outputId": "94e0e927-570d-4c5d-e0b4-27369637fa31"
      },
      "source": [
        "for i in range(len(randomlist)):\n",
        "  pred = pred_strings[randomlist[i]]\n",
        "  plt.imshow(test_images[randomlist[i]])\n",
        "  plt.show()\n",
        "  num = pred.index(\"1\")\n",
        "  let = pred[10:].index(\"1\") + 10\n",
        "  print(values[num], values[let])"
      ],
      "execution_count": 32,
      "outputs": [
        {
          "output_type": "display_data",
          "data": {
            "image/png": "[encoded data removed]",
            "text/plain": [
              "<Figure size 432x288 with 1 Axes>"
            ]
          },
          "metadata": {
            "needs_background": "light"
          }
        },
        {
          "output_type": "stream",
          "name": "stdout",
          "text": [
            "2 J\n"
          ]
        },
        {
          "output_type": "display_data",
          "data": {
            "image/png": "[encoded data removed]",
            "text/plain": [
              "<Figure size 432x288 with 1 Axes>"
            ]
          },
          "metadata": {
            "needs_background": "light"
          }
        },
        {
          "output_type": "stream",
          "name": "stdout",
          "text": [
            "5 J\n"
          ]
        },
        {
          "output_type": "display_data",
          "data": {
            "image/png": "[encoded data removed]",
            "text/plain": [
              "<Figure size 432x288 with 1 Axes>"
            ]
          },
          "metadata": {
            "needs_background": "light"
          }
        },
        {
          "output_type": "stream",
          "name": "stdout",
          "text": [
            "5 K\n"
          ]
        },
        {
          "output_type": "display_data",
          "data": {
            "image/png": "[encoded data removed]",
            "text/plain": [
              "<Figure size 432x288 with 1 Axes>"
            ]
          },
          "metadata": {
            "needs_background": "light"
          }
        },
        {
          "output_type": "stream",
          "name": "stdout",
          "text": [
            "3 E\n"
          ]
        },
        {
          "output_type": "display_data",
          "data": {
            "image/png": "[encoded data removed]",
            "text/plain": [
              "<Figure size 432x288 with 1 Axes>"
            ]
          },
          "metadata": {
            "needs_background": "light"
          }
        },
        {
          "output_type": "stream",
          "name": "stdout",
          "text": [
            "9 N\n"
          ]
        },
        {
          "output_type": "display_data",
          "data": {
            "image/png": "[encoded data removed]",
            "text/plain": [
              "<Figure size 432x288 with 1 Axes>"
            ]
          },
          "metadata": {
            "needs_background": "light"
          }
        },
        {
          "output_type": "stream",
          "name": "stdout",
          "text": [
            "9 G\n"
          ]
        },
        {
          "output_type": "display_data",
          "data": {
            "image/png": "[encoded data removed]",
            "text/plain": [
              "<Figure size 432x288 with 1 Axes>"
            ]
          },
          "metadata": {
            "needs_background": "light"
          }
        },
        {
          "output_type": "stream",
          "name": "stdout",
          "text": [
            "0 F\n"
          ]
        },
        {
          "output_type": "display_data",
          "data": {
            "image/png": "[encoded data removed]",
            "text/plain": [
              "<Figure size 432x288 with 1 Axes>"
            ]
          },
          "metadata": {
            "needs_background": "light"
          }
        },
        {
          "output_type": "stream",
          "name": "stdout",
          "text": [
            "0 B\n"
          ]
        },
        {
          "output_type": "display_data",
          "data": {
            "image/png": "[encoded data removed]",
            "text/plain": [
              "<Figure size 432x288 with 1 Axes>"
            ]
          },
          "metadata": {
            "needs_background": "light"
          }
        },
        {
          "output_type": "stream",
          "name": "stdout",
          "text": [
            "7 N\n"
          ]
        },
        {
          "output_type": "display_data",
          "data": {
            "image/png": "[encoded data removed]",
            "text/plain": [
              "<Figure size 432x288 with 1 Axes>"
            ]
          },
          "metadata": {
            "needs_background": "light"
          }
        },
        {
          "output_type": "stream",
          "name": "stdout",
          "text": [
            "3 S\n"
          ]
        }
      ]
    },
    {
      "cell_type": "code",
      "metadata": {
        "id": "mYyhCYuuySGT"
      },
      "source": [
        ""
      ],
      "execution_count": null,
      "outputs": []
    }
  ]
}