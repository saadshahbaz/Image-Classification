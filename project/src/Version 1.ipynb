{
  "nbformat": 4,
  "nbformat_minor": 0,
  "metadata": {
    "colab": {
      "name": "551MP3WithCsv.ipynb",
      "provenance": []
    },
    "kernelspec": {
      "display_name": "Python 3",
      "name": "python3"
    },
    "language_info": {
      "name": "python"
    }
  },
  "cells": [
    {
      "cell_type": "markdown",
      "metadata": {
        "id": "bGju8Fj55NZa"
      },
      "source": [
        "# Set up Directory"
      ]
    },
    {
      "cell_type": "code",
      "metadata": {
        "id": "GRmFtaEPvGdm"
      },
      "source": [
        "!mkdir ~/.kaggle \n",
        "!mv ./kaggle.json ~/.kaggle/\n",
        "!chmod 600 ~/.kaggle/kaggle.json\n",
        "!kaggle competitions download -c comp-551-fall-2021"
      ],
      "execution_count": null,
      "outputs": []
    },
    {
      "cell_type": "code",
      "metadata": {
        "id": "q1Npxh3c4QnO"
      },
      "source": [
        "# from google.colab import files\n",
        "# files.upload()\n",
        "# !mkdir ~/.kaggle \n",
        "# !mv ./kaggle.json ~/.kaggle/\n",
        "# !chmod 600 ~/.kaggle/kaggle.json\n",
        "# !kaggle competitions download -c comp-551-fall-2021\n",
        "nn"
      ],
      "execution_count": null,
      "outputs": []
    },
    {
      "cell_type": "markdown",
      "metadata": {
        "id": "9O4SeLTy5Q7X"
      },
      "source": [
        "# Imports"
      ]
    },
    {
      "cell_type": "code",
      "metadata": {
        "id": "WH6Wa0AD5UL2"
      },
      "source": [
        "import pickle\n",
        "import torch\n",
        "import torch.nn as nn\n",
        "import torch.nn.functional as F\n",
        "import torch.optim as optim\n",
        "from torch.autograd import Variable"
      ],
      "execution_count": null,
      "outputs": []
    },
    {
      "cell_type": "markdown",
      "metadata": {
        "id": "JVVrdghU8uv_"
      },
      "source": [
        "# Choose Hyper-parameters"
      ]
    },
    {
      "cell_type": "code",
      "metadata": {
        "id": "BnJsDSZc8xZ_"
      },
      "source": [
        "learning_rate = 0.001\n",
        "epochs = 25\n",
        "batch_size = 15"
      ],
      "execution_count": null,
      "outputs": []
    },
    {
      "cell_type": "markdown",
      "metadata": {
        "id": "nmZZquV85W_0"
      },
      "source": [
        "# Set up code"
      ]
    },
    {
      "cell_type": "code",
      "metadata": {
        "id": "jLt65QJG5WvP"
      },
      "source": [
        "TRAIN_IMAGE_PATH = \"train/images_l.pkl\"\n",
        "TRAIN_LABEL_PATH = \"train/labels_l.pkl\"\n",
        "\n",
        "training_batch = int(0.9 * training_images.shape[0])\n",
        "validation_batch = training_images.shape[0] - training_batch"
      ],
      "execution_count": null,
      "outputs": []
    },
    {
      "cell_type": "code",
      "metadata": {
        "id": "JN423a4G5zlV"
      },
      "source": [
        "!cd ~\n",
        "\n",
        "with open(TRAIN_IMAGE_PATH, 'rb') as f: \n",
        "  training_images = pickle.load(f)\n",
        "\n",
        "with open(TRAIN_LABEL_PATH, 'rb') as f: \n",
        "  training_labels = pickle.load(f)"
      ],
      "execution_count": null,
      "outputs": []
    },
    {
      "cell_type": "code",
      "metadata": {
        "id": "2Jf5yKROLSsx"
      },
      "source": [
        "train_X = torch.from_numpy(training_images)\n",
        "train_y = torch.from_numpy(training_labels)\n",
        "\n",
        "data = torch.utils.data.TensorDataset(train_X, train_y)\n",
        "\n",
        "train_data, val_data = torch.utils.data.random_split(data, [training_batch, validation_batch])\n",
        "trainloader = torch.utils.data.DataLoader(dataset = train_data, shuffle = True, batch_size = batch_size)\n",
        "validation_loader = torch.utils.data.DataLoader(dataset = val_data, shuffle = True, batch_size = batch_size)"
      ],
      "execution_count": null,
      "outputs": []
    },
    {
      "cell_type": "markdown",
      "metadata": {
        "id": "2L1IoKCMG6n6"
      },
      "source": [
        "# Build the Network"
      ]
    },
    {
      "cell_type": "code",
      "metadata": {
        "id": "KjBaXYPwG53B"
      },
      "source": [
        "class Net(nn.Module):\n",
        "  def __init__(self):\n",
        "    super().__init__()\n",
        "    self.pool = nn.MaxPool2d(2, 2)\n",
        "    self.dropout = nn.Dropout(p=0.2)\n",
        "    self.batchnorm32 = nn.BatchNorm2d(32)\n",
        "    self.batchnorm64 = nn.BatchNorm2d(64)\n",
        "    self.conv1 = nn.Conv2d(1, 32, 3)\n",
        "    self.conv2 = nn.Conv2d(32, 32, 3, padding='same')\n",
        "    self.conv3 = nn.Conv2d(32, 32, 3, padding='same')\n",
        "    self.conv4 = nn.Conv2d(32, 64, 3, padding='same')\n",
        "    self.conv5 = nn.Conv2d(64, 64, 3, padding='same')\n",
        "    self.conv6 = nn.Conv2d(64, 64, 3, padding='same')\n",
        "    self.conv7 = nn.Conv2d(64, 64, 3, padding='same')\n",
        "    self.conv8 = nn.Conv2d(64, 64, 3, padding='same')\n",
        "    self.fc1 = nn.Linear(64 * 3 * 3, 144)\n",
        "    self.fc2 = nn.Linear(144, 108)\n",
        "    self.fc3 = nn.Linear(108, 36)\n",
        "\n",
        "  def forward(self, x):\n",
        "      x = F.relu(self.conv1(x))\n",
        "      x = self.batchnorm32(x)\n",
        "      x = self.pool(F.relu(self.conv2(x)))\n",
        "      x = self.batchnorm32(x)\n",
        "      x = F.relu(self.conv3(x))\n",
        "      x = self.batchnorm32(x)\n",
        "      x = self.dropout(x)\n",
        "      x = self.pool(F.relu(self.conv4(x)))\n",
        "      x = self.batchnorm64(x)\n",
        "      x = F.relu(self.conv5(x))\n",
        "      x = self.batchnorm64(x)\n",
        "      x = self.pool(F.relu(self.conv6(x)))\n",
        "      x = self.batchnorm64(x)\n",
        "      x = F.relu(self.conv7(x))\n",
        "      x = self.pool(F.relu(self.conv8(x)))\n",
        "      x = self.batchnorm64(x)\n",
        "      x = torch.flatten(x, 1) # flatten all dimensions except batch\n",
        "      x = F.relu(self.fc1(x))\n",
        "      x = self.dropout(x)\n",
        "      x = F.relu(self.fc2(x))\n",
        "      x = self.fc3(x)\n",
        "      return x"
      ],
      "execution_count": null,
      "outputs": []
    },
    {
      "cell_type": "markdown",
      "metadata": {
        "id": "4pxl-uoiHtK4"
      },
      "source": [
        "# Train the Network"
      ]
    },
    {
      "cell_type": "code",
      "metadata": {
        "id": "IYzv6lCnHsue",
        "colab": {
          "base_uri": "https://localhost:8080/"
        },
        "outputId": "1eddcfc1-19ad-4630-cd12-5e685f9a63b9"
      },
      "source": [
        "net = Net()\n",
        "\n",
        "criterion = nn.CrossEntropyLoss()\n",
        "optimizer = optim.Adam(net.parameters(), lr = learning_rate)\n",
        "\n",
        "net = net.float() \n",
        "\n",
        "for epoch in range(epochs):\n",
        "  running_loss = 0.0\n",
        "  i = 0\n",
        "  for images, labels in trainloader:\n",
        "    images = images.reshape(batch_size, 1, 56, 56)\n",
        "    optimizer.zero_grad()\n",
        "    outputs = net(images.float())\n",
        "    loss = criterion(outputs, labels)\n",
        "    loss.backward()\n",
        "    optimizer.step()\n",
        "\n",
        "    running_loss += loss.item()\n",
        "    if i % 2000 == 1999:\n",
        "      print('[%d, %5d] loss: %.3f' % (epoch + 1, i + 1, running_loss / 2000))\n",
        "      running_loss = 0.0\n",
        "    i += 1\n",
        "\n",
        "  print(f'After epoch {epoch}:')\n",
        "  validate()\n",
        "print(\"Finished Training\")"
      ],
      "execution_count": null,
      "outputs": [
        {
          "output_type": "stream",
          "name": "stdout",
          "text": [
            "After epoch 0:\n",
            "Accuracy of the network: 0.09933333333333333\n",
            "Accuracy of the network on numbers: 0.4523333333333333\n",
            "Accuracy of the network on letters: 0.21466666666666667\n",
            "After epoch 1:\n",
            "Accuracy of the network: 0.333\n",
            "Accuracy of the network on numbers: 0.739\n",
            "Accuracy of the network on letters: 0.426\n",
            "After epoch 2:\n",
            "Accuracy of the network: 0.5653333333333334\n",
            "Accuracy of the network on numbers: 0.8423333333333334\n",
            "Accuracy of the network on letters: 0.6316666666666667\n",
            "After epoch 3:\n",
            "Accuracy of the network: 0.6816666666666666\n",
            "Accuracy of the network on numbers: 0.887\n",
            "Accuracy of the network on letters: 0.7293333333333333\n",
            "After epoch 4:\n",
            "Accuracy of the network: 0.736\n",
            "Accuracy of the network on numbers: 0.907\n",
            "Accuracy of the network on letters: 0.7776666666666666\n",
            "After epoch 5:\n",
            "Accuracy of the network: 0.7713333333333333\n",
            "Accuracy of the network on numbers: 0.9153333333333333\n",
            "Accuracy of the network on letters: 0.8036666666666666\n",
            "After epoch 6:\n",
            "Accuracy of the network: 0.7913333333333333\n",
            "Accuracy of the network on numbers: 0.92\n",
            "Accuracy of the network on letters: 0.8216666666666667\n",
            "After epoch 7:\n",
            "Accuracy of the network: 0.809\n",
            "Accuracy of the network on numbers: 0.9203333333333333\n",
            "Accuracy of the network on letters: 0.841\n",
            "After epoch 8:\n",
            "Accuracy of the network: 0.8223333333333334\n",
            "Accuracy of the network on numbers: 0.925\n",
            "Accuracy of the network on letters: 0.8523333333333334\n",
            "After epoch 9:\n",
            "Accuracy of the network: 0.8356666666666667\n",
            "Accuracy of the network on numbers: 0.9263333333333333\n",
            "Accuracy of the network on letters: 0.8646666666666667\n",
            "After epoch 10:\n",
            "Accuracy of the network: 0.838\n",
            "Accuracy of the network on numbers: 0.9346666666666666\n",
            "Accuracy of the network on letters: 0.8656666666666667\n",
            "After epoch 11:\n",
            "Accuracy of the network: 0.8543333333333333\n",
            "Accuracy of the network on numbers: 0.9323333333333333\n",
            "Accuracy of the network on letters: 0.8806666666666667\n",
            "After epoch 12:\n",
            "Accuracy of the network: 0.8573333333333333\n",
            "Accuracy of the network on numbers: 0.935\n",
            "Accuracy of the network on letters: 0.8816666666666667\n",
            "After epoch 13:\n",
            "Accuracy of the network: 0.8563333333333333\n",
            "Accuracy of the network on numbers: 0.9373333333333334\n",
            "Accuracy of the network on letters: 0.8833333333333333\n",
            "After epoch 14:\n",
            "Accuracy of the network: 0.863\n",
            "Accuracy of the network on numbers: 0.937\n",
            "Accuracy of the network on letters: 0.8856666666666667\n",
            "After epoch 15:\n",
            "Accuracy of the network: 0.868\n",
            "Accuracy of the network on numbers: 0.941\n",
            "Accuracy of the network on letters: 0.8893333333333333\n",
            "After epoch 16:\n",
            "Accuracy of the network: 0.8653333333333333\n",
            "Accuracy of the network on numbers: 0.9386666666666666\n",
            "Accuracy of the network on letters: 0.889\n",
            "After epoch 17:\n",
            "Accuracy of the network: 0.863\n",
            "Accuracy of the network on numbers: 0.9443333333333334\n",
            "Accuracy of the network on letters: 0.888\n",
            "After epoch 18:\n",
            "Accuracy of the network: 0.8653333333333333\n",
            "Accuracy of the network on numbers: 0.9406666666666667\n",
            "Accuracy of the network on letters: 0.884\n",
            "After epoch 19:\n",
            "Accuracy of the network: 0.8606666666666667\n",
            "Accuracy of the network on numbers: 0.94\n",
            "Accuracy of the network on letters: 0.8806666666666667\n",
            "After epoch 20:\n",
            "Accuracy of the network: 0.8733333333333333\n",
            "Accuracy of the network on numbers: 0.941\n",
            "Accuracy of the network on letters: 0.896\n",
            "After epoch 21:\n",
            "Accuracy of the network: 0.882\n",
            "Accuracy of the network on numbers: 0.947\n",
            "Accuracy of the network on letters: 0.8983333333333333\n",
            "After epoch 22:\n",
            "Accuracy of the network: 0.8826666666666667\n",
            "Accuracy of the network on numbers: 0.948\n",
            "Accuracy of the network on letters: 0.8996666666666666\n",
            "After epoch 23:\n",
            "Accuracy of the network: 0.883\n",
            "Accuracy of the network on numbers: 0.948\n",
            "Accuracy of the network on letters: 0.9006666666666666\n",
            "After epoch 24:\n",
            "Accuracy of the network: 0.8806666666666667\n",
            "Accuracy of the network on numbers: 0.9466666666666667\n",
            "Accuracy of the network on letters: 0.8986666666666666\n",
            "Finished Training\n"
          ]
        }
      ]
    },
    {
      "cell_type": "markdown",
      "metadata": {
        "id": "Caodc0gxIdeB"
      },
      "source": [
        "## Save the model"
      ]
    },
    {
      "cell_type": "code",
      "metadata": {
        "id": "2VK1Al3ZIcee"
      },
      "source": [
        "PATH = './mnist_net1.pth'\n",
        "torch.save(net.state_dict(), PATH)"
      ],
      "execution_count": null,
      "outputs": []
    },
    {
      "cell_type": "markdown",
      "metadata": {
        "id": "z2jezqoh6lx9"
      },
      "source": [
        "# Validation"
      ]
    },
    {
      "cell_type": "code",
      "metadata": {
        "id": "L59IpAR4Imri"
      },
      "source": [
        "def validate():\n",
        "  correct = 0\n",
        "  correctNums = 0\n",
        "  correctLetters = 0\n",
        "  total = 0\n",
        "\n",
        "  # since we're not training, we don't need to calculate the gradients for our outputs\n",
        "  with torch.no_grad():\n",
        "      for data in validation_loader:\n",
        "          images, labels = data\n",
        "          images = images.reshape(batch_size, 1, 56, 56)\n",
        "          # calculate outputs by running images through the network\n",
        "          outputs = net(images.float())\n",
        "          # the class with the highest energy is what we choose as prediction\n",
        "          #_, predicted = torch.max(outputs.data, 1)\n",
        "          numbers = outputs.data[:, :10]\n",
        "          _, predictedNums = torch.max(numbers, 1)\n",
        "          _, actualNums = torch.max(labels[:, :10], 1)\n",
        "          \n",
        "          letters = outputs.data[:, 10:]\n",
        "          #print(predictedNums, actualNums)\n",
        "\n",
        "          _, predictedLetters = torch.max(letters, 1)\n",
        "          _, actualLetters = torch.max(labels[:, 10:], 1)\n",
        "          #print(predictedLetters, actualLetters)\n",
        "\n",
        "          correctNums += (predictedNums == actualNums).sum().item()\n",
        "        \n",
        "          correctLetters += (predictedLetters == actualLetters).sum().item()\n",
        "    \n",
        "          total += predictedNums.shape[0]\n",
        "          correct += ((predictedNums == actualNums) & (predictedLetters == actualLetters)).sum().item()\n",
        "\n",
        "  ovr_acc = correct / total\n",
        "  num_acc = correctNums / total\n",
        "  let_acc = correctLetters / total\n",
        "\n",
        "  print(f'Accuracy of the network: {ovr_acc}')\n",
        "  print(f'Accuracy of the network on numbers: {num_acc}')\n",
        "  print(f'Accuracy of the network on letters: {let_acc}')"
      ],
      "execution_count": null,
      "outputs": []
    },
    {
      "cell_type": "markdown",
      "metadata": {
        "id": "mcdC6H5AIjq5"
      },
      "source": [
        "# Test the model"
      ]
    },
    {
      "cell_type": "code",
      "metadata": {
        "id": "GYSK1m2kr7jB"
      },
      "source": [
        "def test():\n",
        "  predictions = []\n",
        "  with torch.no_grad():\n",
        "      for images in testloader:\n",
        "          images = images.reshape(batch_size, 1, 56, 56)\n",
        "          # calculate outputs by running images through the network\n",
        "          outputs = net(images.float()).data\n",
        "        \n",
        "          for output in outputs:\n",
        "            numbers = output[:10]\n",
        "            letters = output[10:]\n",
        "            output[:10] = torch.where(numbers == torch.max(numbers, 0)[0], 1, 0)\n",
        "            output[10:] = torch.where(letters == torch.max(letters, 0)[0], 1, 0)\n",
        "            predictions.append(output)\n",
        "\n",
        "  return predictions"
      ],
      "execution_count": null,
      "outputs": []
    },
    {
      "cell_type": "code",
      "metadata": {
        "id": "VBXGkCPHsMpH"
      },
      "source": [
        "TEST_IMAGE_PATH = \"test/images_test.pkl\"\n",
        "\n",
        "!cd ~\n",
        "\n",
        "with open(TEST_IMAGE_PATH, 'rb') as f: \n",
        "  testing_images = pickle.load(f)\n",
        "\n",
        "test_X = torch.from_numpy(testing_images)\n",
        "\n",
        "testloader = torch.utils.data.DataLoader(dataset = test_X, shuffle = False, batch_size = batch_size)\n",
        "\n",
        "predictions = test()"
      ],
      "execution_count": null,
      "outputs": []
    },
    {
      "cell_type": "markdown",
      "metadata": {
        "id": "WPGksRG66p6Y"
      },
      "source": [
        "# Into CSV"
      ]
    },
    {
      "cell_type": "code",
      "metadata": {
        "id": "V9puMOkc7rpO"
      },
      "source": [
        "import csv\n",
        "\n",
        "pred_strings = []\n",
        "for pred in predictions:\n",
        "  st = \"\".join([str(int(x)) for x in pred.numpy()])\n",
        "  pred_strings.append(st)\n",
        "\n",
        "id = list(range(15000))\n",
        "ss = list(zip(id,pred_strings))\n",
        "\n",
        "with open('submission_log.csv', 'w', newline = '') as f:\n",
        "     writer = csv.writer(f, delimiter=',')\n",
        "     writer.writerow(['# Id', 'Category'])\n",
        "     writer.writerows(ss)"
      ],
      "execution_count": null,
      "outputs": []
    },
    {
      "cell_type": "code",
      "metadata": {
        "colab": {
          "base_uri": "https://localhost:8080/"
        },
        "id": "t-nW4ov5BcSz",
        "outputId": "171be795-84b5-456d-9b03-6880ee2f70aa"
      },
      "source": [
        "values = {\n",
        "    0:'0', \n",
        "    1:'1',\n",
        "    2:'2', \n",
        "    3:'3', \n",
        "    4:'4',\n",
        "    5:'5', \n",
        "    6:'6', \n",
        "    7:'7', \n",
        "    8:'8', \n",
        "    9:'9', \n",
        "    10:'A', \n",
        "    11:'B', \n",
        "    12:'C', \n",
        "    13:'D', \n",
        "    14:'E',\n",
        "    15:'F',\n",
        "    16:'G',\n",
        "    17:'H',\n",
        "    18:'I',\n",
        "    19:'J',\n",
        "    20:'K',\n",
        "    21:'L',\n",
        "    22:'M',\n",
        "    23:'N',\n",
        "    24:'O',\n",
        "    25:'P',\n",
        "    26:'Q',\n",
        "    27:'R',\n",
        "    28:'S',\n",
        "    29:'T',\n",
        "    30:'U',\n",
        "    31:'V',\n",
        "    32:'W',\n",
        "    33:'X',\n",
        "    34:'Y',\n",
        "    35:'Z'\n",
        "}\n",
        "\n",
        "\n",
        "for pred in predictions[:100]:\n",
        "  pred = pred.numpy().tolist()\n",
        "  num = pred.index(1)\n",
        "  let = pred[10:].index(1) + 10\n",
        "  print(values[num], values[let])"
      ],
      "execution_count": null,
      "outputs": [
        {
          "output_type": "stream",
          "name": "stdout",
          "text": [
            "0 T\n",
            "4 L\n",
            "7 S\n",
            "0 L\n",
            "6 J\n",
            "9 Y\n",
            "3 O\n",
            "2 S\n",
            "1 W\n",
            "5 G\n",
            "6 T\n",
            "9 E\n",
            "7 O\n",
            "9 E\n",
            "9 Q\n",
            "5 V\n",
            "8 J\n",
            "7 Z\n",
            "1 I\n",
            "3 F\n",
            "3 Q\n",
            "0 I\n",
            "6 Y\n",
            "6 V\n",
            "1 I\n",
            "5 A\n",
            "6 C\n",
            "6 I\n",
            "1 Y\n",
            "8 B\n",
            "7 D\n",
            "6 W\n",
            "2 Z\n",
            "0 O\n",
            "4 V\n",
            "4 H\n",
            "0 S\n",
            "4 J\n",
            "5 S\n",
            "8 R\n",
            "4 L\n",
            "3 X\n",
            "4 J\n",
            "1 D\n",
            "8 D\n",
            "8 T\n",
            "6 Q\n",
            "9 F\n",
            "2 U\n",
            "5 I\n",
            "1 F\n",
            "7 M\n",
            "2 M\n",
            "0 J\n",
            "4 R\n",
            "1 T\n",
            "0 O\n",
            "3 B\n",
            "7 C\n",
            "7 J\n",
            "8 B\n",
            "9 A\n",
            "5 B\n",
            "1 Y\n",
            "1 B\n",
            "8 R\n",
            "2 L\n",
            "5 N\n",
            "2 J\n",
            "4 J\n",
            "4 D\n",
            "3 X\n",
            "9 J\n",
            "0 Q\n",
            "2 M\n",
            "1 D\n",
            "5 C\n",
            "4 M\n",
            "2 U\n",
            "3 S\n",
            "1 M\n",
            "4 P\n",
            "7 H\n",
            "5 Q\n",
            "8 N\n",
            "3 U\n",
            "0 J\n",
            "7 G\n",
            "5 E\n",
            "1 W\n",
            "5 H\n",
            "3 Z\n",
            "7 P\n",
            "1 L\n",
            "0 Q\n",
            "2 G\n",
            "9 T\n",
            "5 S\n",
            "8 Q\n",
            "1 X\n"
          ]
        }
      ]
    }
  ]
}